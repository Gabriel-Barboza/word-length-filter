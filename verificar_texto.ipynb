{
  "nbformat": 4,
  "nbformat_minor": 0,
  "metadata": {
    "colab": {
      "provenance": [],
      "authorship_tag": "ABX9TyOqyucADckbm8MTts2iAtYN",
      "include_colab_link": true
    },
    "kernelspec": {
      "name": "python3",
      "display_name": "Python 3"
    },
    "language_info": {
      "name": "python"
    }
  },
  "cells": [
    {
      "cell_type": "markdown",
      "metadata": {
        "id": "view-in-github",
        "colab_type": "text"
      },
      "source": [
        "<a href=\"https://colab.research.google.com/github/Gabriel-Barboza/word-length-filter/blob/main/verificar_texto.ipynb\" target=\"_parent\"><img src=\"https://colab.research.google.com/assets/colab-badge.svg\" alt=\"Open In Colab\"/></a>"
      ]
    },
    {
      "cell_type": "code",
      "execution_count": 4,
      "metadata": {
        "id": "apo2KEeweBvq"
      },
      "outputs": [],
      "source": [
        "import re\n",
        "import unicodedata\n",
        "\n",
        "\n",
        "with open(r'/content/sample_data/tempo.txt', 'r', encoding='latin-1') as file:\n",
        "    texto = file.read()\n",
        "\n",
        "palavras = re.findall(r'\\b\\w+\\b', texto)\n",
        "\n",
        "palavras_filtradas = [palavra for palavra in palavras if len(palavra) == 5]\n",
        "\n",
        "palavras_unicas = list(set(palavras_filtradas))\n",
        "\n",
        "def remover_acentos(palavra):\n",
        "    return ''.join(\n",
        "        c for c in unicodedata.normalize('NFD', palavra)\n",
        "        if unicodedata.category(c) != 'Mn'\n",
        "    )\n",
        "\n",
        "palavras_unicas = [remover_acentos(p) for p in palavras_unicas]\n",
        "\n",
        "palavras_unicas.sort()\n",
        "\n",
        "with open('lista_com_aspas_virgula.txt', 'w', encoding='utf-8') as f:\n",
        "    f.write('[\\n')\n",
        "    for palavra in palavras_unicas:\n",
        "        f.write(f\"'{palavra}',\\n\")\n",
        "    f.write(']\\n')\n",
        "\n",
        "\n",
        "with open('lista_filtrada.txt', 'w', encoding='utf-8') as file:\n",
        "    for palavra in palavras_unicas:\n",
        "        file.write(palavra + '\\n')"
      ]
    }
  ]
}